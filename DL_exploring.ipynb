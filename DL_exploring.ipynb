{
 "cells": [
  {
   "cell_type": "code",
   "id": "initial_id",
   "metadata": {
    "collapsed": true,
    "ExecuteTime": {
     "end_time": "2025-04-03T17:15:52.060440Z",
     "start_time": "2025-04-03T17:15:51.601876Z"
    }
   },
   "source": [
    "from transformers import DistilBertTokenizer, DistilBertModel\n",
    "import torch\n",
    "import torch.nn.functional as F\n",
    "from NPEET.npeet.entropy_estimators import mi"
   ],
   "outputs": [],
   "execution_count": 20
  },
  {
   "metadata": {
    "ExecuteTime": {
     "end_time": "2025-04-03T16:46:25.549708Z",
     "start_time": "2025-04-03T16:45:59.523855Z"
    }
   },
   "cell_type": "code",
   "source": [
    "tokenizer = DistilBertTokenizer.from_pretrained('distilbert-base-cased')\n",
    "\n",
    "model = DistilBertModel.from_pretrained('distilbert-base-cased')"
   ],
   "id": "6390842b98ec706a",
   "outputs": [
    {
     "data": {
      "text/plain": [
       "tokenizer_config.json:   0%|          | 0.00/49.0 [00:00<?, ?B/s]"
      ],
      "application/vnd.jupyter.widget-view+json": {
       "version_major": 2,
       "version_minor": 0,
       "model_id": "680f815be7d5482887b9b0a29bae7b9e"
      }
     },
     "metadata": {},
     "output_type": "display_data"
    },
    {
     "data": {
      "text/plain": [
       "vocab.txt:   0%|          | 0.00/213k [00:00<?, ?B/s]"
      ],
      "application/vnd.jupyter.widget-view+json": {
       "version_major": 2,
       "version_minor": 0,
       "model_id": "5d726df52e2d4fe090ec77a9ecb0da0e"
      }
     },
     "metadata": {},
     "output_type": "display_data"
    },
    {
     "data": {
      "text/plain": [
       "tokenizer.json:   0%|          | 0.00/436k [00:00<?, ?B/s]"
      ],
      "application/vnd.jupyter.widget-view+json": {
       "version_major": 2,
       "version_minor": 0,
       "model_id": "a47fd6ccf46149a9a5a13e39dd4156e3"
      }
     },
     "metadata": {},
     "output_type": "display_data"
    },
    {
     "data": {
      "text/plain": [
       "config.json:   0%|          | 0.00/465 [00:00<?, ?B/s]"
      ],
      "application/vnd.jupyter.widget-view+json": {
       "version_major": 2,
       "version_minor": 0,
       "model_id": "29826ee0eb9d4a9294b10293c59a68f5"
      }
     },
     "metadata": {},
     "output_type": "display_data"
    },
    {
     "name": "stderr",
     "output_type": "stream",
     "text": [
      "Xet Storage is enabled for this repo, but the 'hf_xet' package is not installed. Falling back to regular HTTP download. For better performance, install the package with: `pip install huggingface_hub[hf_xet]` or `pip install hf_xet`\n"
     ]
    },
    {
     "data": {
      "text/plain": [
       "model.safetensors:   0%|          | 0.00/263M [00:00<?, ?B/s]"
      ],
      "application/vnd.jupyter.widget-view+json": {
       "version_major": 2,
       "version_minor": 0,
       "model_id": "8f4745a4cb5d49c1852e954cc7a5bdae"
      }
     },
     "metadata": {},
     "output_type": "display_data"
    }
   ],
   "execution_count": 2
  },
  {
   "metadata": {
    "ExecuteTime": {
     "end_time": "2025-04-03T16:47:06.686718Z",
     "start_time": "2025-04-03T16:47:06.661365Z"
    }
   },
   "cell_type": "code",
   "source": [
    "# Sample text\n",
    "text = \"Hello, how are you doing today?\"\n",
    "\n",
    "# Tokenize the text\n",
    "inputs = tokenizer(text, return_tensors=\"pt\")  # 'pt' stands for PyTorch tensors\n",
    "\n",
    "print(inputs)"
   ],
   "id": "f3d6f0c854a4e736",
   "outputs": [
    {
     "name": "stdout",
     "output_type": "stream",
     "text": [
      "{'input_ids': tensor([[ 101, 8667,  117, 1293, 1132, 1128, 1833, 2052,  136,  102]]), 'attention_mask': tensor([[1, 1, 1, 1, 1, 1, 1, 1, 1, 1]])}\n"
     ]
    }
   ],
   "execution_count": 3
  },
  {
   "metadata": {
    "ExecuteTime": {
     "end_time": "2025-04-03T17:22:16.651311Z",
     "start_time": "2025-04-03T17:22:16.639503Z"
    }
   },
   "cell_type": "code",
   "source": [
    "def get_embedding(overview):\n",
    "    # Tokenize the input text with truncation and padding (if processing batches)\n",
    "    token_inputs = tokenizer(overview, return_tensors='pt', truncation=True, padding=True)\n",
    "    \n",
    "    # Run the model in inference mode\n",
    "    with torch.no_grad():\n",
    "        outputs = model(**token_inputs)\n",
    "    \n",
    "    # Extract the last hidden state (shape: [batch_size, sequence_length, hidden_size])\n",
    "    hidden_states = outputs.last_hidden_state\n",
    "    \n",
    "    # Apply mean pooling across the sequence dimension to get a single vector per input\n",
    "    sentence_embedding = hidden_states.mean(dim=1)\n",
    "    normalized_embedding = F.normalize(sentence_embedding, p=2, dim=1)\n",
    "    return normalized_embedding\n",
    "    "
   ],
   "id": "f12240a8d75111f5",
   "outputs": [],
   "execution_count": 31
  },
  {
   "metadata": {
    "ExecuteTime": {
     "end_time": "2025-04-03T17:24:33.385156Z",
     "start_time": "2025-04-03T17:24:33.224219Z"
    }
   },
   "cell_type": "code",
   "source": [
    "texts = [\n",
    "    \"Hello, world!\",\n",
    "    \"How are you doing today?\",\n",
    "    \"Transformers are amazing!\"\n",
    "]\n",
    "toy_story = \"Led by Woody, Andy's toys live happily in his room until Andy's birthday brings Buzz Lightyear onto the scene. Afraid of losing his place in Andy's heart, Woody plots against Buzz. But when circumstances separate Buzz and Woody from their owner, the duo eventually learns to put aside their differences.\"\n",
    "\n",
    "toy_story_2 = \"Andy heads off to Cowboy Camp, leaving his toys to their own devices. Things shift into high gear when an obsessive toy collector named Al McWhiggen, owner of Al's Toy Barn kidnaps Woody. Andy's toys mount a daring rescue mission, Buzz Lightyear meets his match and Woody has to decide where he and his heart truly belong.\"\n",
    "\n",
    "forrest_gump = \"A man with a low IQ has accomplished great things in his life and been present during significant historic events - in each case, far exceeding what anyone imagined he could do. Yet, despite all the things he has attained, his one true love eludes him. 'Forrest Gump' is the story of a man who rose above his challenges, and who proved that determination, courage, and love are more important than ability.\"\n",
    "\n",
    "forrest_gump_2= \"The history of the United States from the 1950s to the '70s unfolds from the perspective of an Alabama man with an IQ of 75, who yearns to be reunited with his childhood sweetheart.\"\n",
    "\n",
    "mission_impossible = \"Ethan Hunt (Cruise) and his team are racing against time to track down a dangerous terrorist named Hendricks (Nyqvist), who has gained access to Russian nuclear launch codes and is planning a strike on the United States. An attempt to stop him ends in an explosion causing severe destruction to the Kremlin and the IMF to be implicated in the bombing, forcing the President to disavow them. No longer being aided by the government, Ethan and his team chase Hendricks around the globe, although they might still be too late to stop a disaster.\"\n",
    "\n",
    "james_bond = \"Quantum of Solace continues the adventures of James Bond after Casino Royale. Betrayed by Vesper, the woman he loved, 007 fights the urge to make his latest mission personal. Pursuing his determination to uncover the truth, Bond and M interrogate Mr. White, who reveals that the organization that blackmailed Vesper is far more complex and dangerous than anyone had imagined.\"\n",
    "\n",
    "schindlers_list = \"The true story of how businessman Oskar Schindler saved over a thousand Jewish lives from the Nazis while they worked as slaves in his factory during World War II\"\n",
    "\n",
    "bling_ring = \"Inspired by actual events, a group of fame-obsessed teenagers use the Internet to track celebrities' whereabouts in order to rob their homes.\"\n",
    "x = forrest_gump\n",
    "y= forrest_gump_2\n",
    "cos_sim = F.cosine_similarity(get_embedding(x), get_embedding(y))\n"
   ],
   "id": "7145fbd08ef7c6ef",
   "outputs": [
    {
     "name": "stdout",
     "output_type": "stream",
     "text": [
      "tensor([0.9276])\n",
      "0.6788200851375967\n"
     ]
    }
   ],
   "execution_count": 36
  },
  {
   "metadata": {
    "ExecuteTime": {
     "end_time": "2025-04-03T17:51:56.892457Z",
     "start_time": "2025-04-03T17:51:56.719200Z"
    }
   },
   "cell_type": "code",
   "source": [
    "\n",
    "movie_texts = [\n",
    "    \"Led by Woody, Andy's toys live happily in his room until Andy's birthday brings Buzz Lightyear onto the scene. Afraid of losing his place in Andy's heart, Woody plots against Buzz. But when circumstances separate Buzz and Woody from their owner, the duo eventually learns to put aside their differences.\",\n",
    "    \"A man with a low IQ has accomplished great things in his life and been present during significant historic events - in each case, far exceeding what anyone imagined he could do. Yet, despite all the things he has attained, his one true love eludes him. 'Forrest Gump' is the story of a man who rose above his challenges, and who proved that determination, courage, and love are more important than ability.\",\n",
    "    \"Quantum of Solace continues the adventures of James Bond after Casino Royale. Betrayed by Vesper, the woman he loved, 007 fights the urge to make his latest mission personal. Pursuing his determination to uncover the truth, Bond and M interrogate Mr. White, who reveals that the organization that blackmailed Vesper is far more complex and dangerous than anyone had imagined.\",\n",
    "    \"Inspired by actual events, a group of fame-obsessed teenagers use the Internet to track celebrities' whereabouts in order to rob their homes.\",\n",
    "    \"Andy heads off to Cowboy Camp, leaving his toys to their own devices. Things shift into high gear when an obsessive toy collector named Al McWhiggen, owner of Al's Toy Barn kidnaps Woody. Andy's toys mount a daring rescue mission, Buzz Lightyear meets his match and Woody has to decide where he and his heart truly belong.\",\n",
    "    \"Ethan Hunt (Cruise) and his team are racing against time to track down a dangerous terrorist named Hendricks (Nyqvist), who has gained access to Russian nuclear launch codes and is planning a strike on the United States. An attempt to stop him ends in an explosion causing severe destruction to the Kremlin and the IMF to be implicated in the bombing, forcing the President to disavow them. No longer being aided by the government, Ethan and his team chase Hendricks around the globe, although they might still be too late to stop a disaster.\"\n",
    "    \n",
    "]\n",
    "\n",
    "# Tokenize the list of texts; the tokenizer will pad and truncate as needed\n",
    "inputs = tokenizer(movie_texts, return_tensors=\"pt\", padding=True, truncation=True)\n",
    "\n",
    "# Run the model in inference mode to get embeddings\n",
    "with torch.no_grad():\n",
    "    outputs = model(**inputs)\n",
    "\n",
    "# Obtain the token-level embeddings from the last hidden state\n",
    "hidden_states = outputs.last_hidden_state  # Shape: [batch_size, seq_length, hidden_size]\n",
    "\n",
    "# Apply mean pooling over the sequence dimension to get one embedding per movie\n",
    "embeddings = hidden_states.mean(dim=1)  # Shape: [batch_size, hidden_size]\n",
    "\n",
    "# Normalize each embedding using L2 normalization so that length does not affect similarity\n",
    "norm_embeddings = F.normalize(embeddings, p=2, dim=1)\n",
    "\n",
    "# Calculate the pairwise cosine similarity matrix using matrix multiplication\n",
    "# Since the embeddings are normalized, the dot product equals cosine similarity\n",
    "similarity_matrix = norm_embeddings @ norm_embeddings.T\n",
    "\n",
    "# Print the resulting cosine similarity matrix\n",
    "print(\"Cosine Similarity Matrix:\")\n",
    "print(similarity_matrix)\n"
   ],
   "id": "4811b1b6e2d3468b",
   "outputs": [
    {
     "name": "stdout",
     "output_type": "stream",
     "text": [
      "Cosine Similarity Matrix:\n",
      "tensor([[1.0000, 0.8921, 0.9431, 0.9040, 0.9769, 0.9102],\n",
      "        [0.8921, 1.0000, 0.9230, 0.8843, 0.9060, 0.9052],\n",
      "        [0.9431, 0.9230, 1.0000, 0.9154, 0.9604, 0.9568],\n",
      "        [0.9040, 0.8843, 0.9154, 1.0000, 0.9227, 0.8918],\n",
      "        [0.9769, 0.9060, 0.9604, 0.9227, 1.0000, 0.9302],\n",
      "        [0.9102, 0.9052, 0.9568, 0.8918, 0.9302, 1.0000]])\n"
     ]
    }
   ],
   "execution_count": 50
  },
  {
   "metadata": {
    "ExecuteTime": {
     "end_time": "2025-04-03T17:36:01.570032Z",
     "start_time": "2025-04-03T17:36:01.561757Z"
    }
   },
   "cell_type": "code",
   "source": "import numpy as np\n",
   "id": "a29e4cac571af2df",
   "outputs": [
    {
     "name": "stdout",
     "output_type": "stream",
     "text": [
      "tensor(0)\n"
     ]
    }
   ],
   "execution_count": 43
  },
  {
   "metadata": {
    "ExecuteTime": {
     "end_time": "2025-04-03T18:04:31.562542Z",
     "start_time": "2025-04-03T18:04:31.556655Z"
    }
   },
   "cell_type": "code",
   "source": [
    "def second_highest_index(lst):\n",
    "    if len(lst) < 2:\n",
    "        raise ValueError(\"List must have at least two elements.\")\n",
    "    \n",
    "    highest_idx = 0\n",
    "    second_highest_idx = None\n",
    "    \n",
    "    for i in range(1, len(lst)):\n",
    "        if lst[i] > lst[highest_idx]:\n",
    "            second_highest_idx = highest_idx\n",
    "            highest_idx = i\n",
    "        elif lst[i] != lst[highest_idx]:\n",
    "            # Update second highest index if it's either unset or the current value is larger\n",
    "            if second_highest_idx is None or lst[i] > lst[second_highest_idx]:\n",
    "                second_highest_idx = i\n",
    "                \n",
    "    if second_highest_idx is None:\n",
    "        raise ValueError(\"All elements are equal; no distinct second highest element.\")\n",
    "    \n",
    "    return second_highest_idx\n",
    "\n",
    "def get_sorted_indices(lst):\n",
    "    \"\"\"\n",
    "    Returns a list of indices sorted by their corresponding values in descending order.\n",
    "    \n",
    "    Example:\n",
    "      lst = [2, 7, 3, 10, 5]\n",
    "      get_sorted_indices_desc(lst) -> [3, 1, 4, 2, 0]\n",
    "    \"\"\"\n",
    "    return sorted(range(len(lst)), key=lambda i: lst[i], reverse=True)\n",
    "\n",
    "\n",
    "\n"
   ],
   "id": "72aba41972ce2e35",
   "outputs": [],
   "execution_count": 55
  },
  {
   "metadata": {
    "ExecuteTime": {
     "end_time": "2025-04-03T20:24:05.477386Z",
     "start_time": "2025-04-03T20:24:05.457957Z"
    }
   },
   "cell_type": "code",
   "source": [
    "given_movie_id= 5\n",
    "similar_movie_id = get_sorted_indices(similarity_matrix[given_movie_id])\n",
    "print(similar_movie_id)"
   ],
   "id": "3ab3ccd8142d3d8b",
   "outputs": [
    {
     "name": "stdout",
     "output_type": "stream",
     "text": [
      "[5, 2, 4, 0, 1, 3]\n"
     ]
    }
   ],
   "execution_count": 58
  },
  {
   "metadata": {},
   "cell_type": "code",
   "outputs": [],
   "execution_count": null,
   "source": "",
   "id": "21f2248cac2459bf"
  }
 ],
 "metadata": {
  "kernelspec": {
   "display_name": "Python 3",
   "language": "python",
   "name": "python3"
  },
  "language_info": {
   "codemirror_mode": {
    "name": "ipython",
    "version": 2
   },
   "file_extension": ".py",
   "mimetype": "text/x-python",
   "name": "python",
   "nbconvert_exporter": "python",
   "pygments_lexer": "ipython2",
   "version": "2.7.6"
  }
 },
 "nbformat": 4,
 "nbformat_minor": 5
}
